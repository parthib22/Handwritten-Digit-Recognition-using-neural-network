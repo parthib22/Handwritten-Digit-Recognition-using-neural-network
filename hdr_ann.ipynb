{
  "cells": [
    {
      "cell_type": "code",
      "execution_count": 108,
      "metadata": {
        "id": "qCLjYJ0g6hSG"
      },
      "outputs": [],
      "source": [
        "import os\n",
        "import cv2\n",
        "import numpy as np\n",
        "import matplotlib.pyplot as plt\n",
        "import tensorflow as tf"
      ]
    },
    {
      "cell_type": "code",
      "execution_count": 109,
      "metadata": {
        "id": "bJdN_zjp6_RT"
      },
      "outputs": [],
      "source": [
        "mnist = tf.keras.datasets.mnist\n",
        "(x_train, y_train), (x_test, y_test) = mnist.load_data()"
      ]
    },
    {
      "cell_type": "code",
      "execution_count": 110,
      "metadata": {
        "id": "9RSt49CQ7_jf"
      },
      "outputs": [],
      "source": [
        "x_train = tf.keras.utils.normalize(x_train, axis=1) # x_train / 255\n",
        "x_test = tf.keras.utils.normalize(x_test, axis=1) # x_test / 255"
      ]
    },
    {
      "cell_type": "code",
      "execution_count": 111,
      "metadata": {
        "id": "yRi_330i8fp4"
      },
      "outputs": [],
      "source": [
        "model = tf.keras.models.Sequential()\n",
        "model.add(tf.keras.layers.Reshape((28, 28, 1), input_shape=(28, 28)))\n",
        "model.add(tf.keras.layers.Flatten())\n",
        "model.add(tf.keras.layers.Dense(128, activation='relu'))\n",
        "model.add(tf.keras.layers.Dense(128, activation='relu'))\n",
        "model.add(tf.keras.layers.Dense(10, activation='softmax'))"
      ]
    },
    {
      "cell_type": "code",
      "execution_count": 112,
      "metadata": {
        "id": "hZwZyWYX_tBr"
      },
      "outputs": [],
      "source": [
        "model.compile(optimizer='adam', loss='sparse_categorical_crossentropy', metrics=['accuracy'])"
      ]
    },
    {
      "cell_type": "code",
      "execution_count": 113,
      "metadata": {
        "id": "i4O42IePMEkA"
      },
      "outputs": [],
      "source": [
        "model.reset_states()"
      ]
    },
    {
      "cell_type": "code",
      "execution_count": 114,
      "metadata": {
        "colab": {
          "base_uri": "https://localhost:8080/"
        },
        "id": "JBddLqFEAFiE",
        "outputId": "66c27812-1ebf-491c-b92d-2b2ad6cb61ad"
      },
      "outputs": [
        {
          "name": "stdout",
          "output_type": "stream",
          "text": [
            "Epoch 1/11\n",
            "1875/1875 [==============================] - 6s 3ms/step - loss: 0.2604 - accuracy: 0.9249\n",
            "Epoch 2/11\n",
            "1875/1875 [==============================] - 5s 2ms/step - loss: 0.1073 - accuracy: 0.9666\n",
            "Epoch 3/11\n",
            "1875/1875 [==============================] - 5s 3ms/step - loss: 0.0742 - accuracy: 0.9765\n",
            "Epoch 4/11\n",
            "1875/1875 [==============================] - 5s 3ms/step - loss: 0.0527 - accuracy: 0.9830\n",
            "Epoch 5/11\n",
            "1875/1875 [==============================] - 6s 3ms/step - loss: 0.0416 - accuracy: 0.9865\n",
            "Epoch 6/11\n",
            "1875/1875 [==============================] - 6s 3ms/step - loss: 0.0322 - accuracy: 0.9897\n",
            "Epoch 7/11\n",
            "1875/1875 [==============================] - 6s 3ms/step - loss: 0.0274 - accuracy: 0.9905\n",
            "Epoch 8/11\n",
            "1875/1875 [==============================] - 5s 3ms/step - loss: 0.0214 - accuracy: 0.9927\n",
            "Epoch 9/11\n",
            "1875/1875 [==============================] - 5s 3ms/step - loss: 0.0193 - accuracy: 0.9934\n",
            "Epoch 10/11\n",
            "1875/1875 [==============================] - 5s 3ms/step - loss: 0.0155 - accuracy: 0.9951\n",
            "Epoch 11/11\n",
            "1875/1875 [==============================] - 5s 3ms/step - loss: 0.0140 - accuracy: 0.9952\n"
          ]
        },
        {
          "data": {
            "text/plain": [
              "<keras.src.callbacks.History at 0x17c26ef5e50>"
            ]
          },
          "execution_count": 114,
          "metadata": {},
          "output_type": "execute_result"
        }
      ],
      "source": [
        "model.fit(x_train, y_train, epochs=11)"
      ]
    },
    {
      "cell_type": "code",
      "execution_count": 115,
      "metadata": {
        "id": "OvG__j-ZALTk"
      },
      "outputs": [
        {
          "name": "stdout",
          "output_type": "stream",
          "text": [
            "INFO:tensorflow:Assets written to: handwritten.model\\assets\n"
          ]
        },
        {
          "name": "stderr",
          "output_type": "stream",
          "text": [
            "INFO:tensorflow:Assets written to: handwritten.model\\assets\n"
          ]
        }
      ],
      "source": [
        "model.save('handwritten.model')"
      ]
    },
    {
      "cell_type": "code",
      "execution_count": 116,
      "metadata": {
        "id": "r05KvQNKBO6b"
      },
      "outputs": [],
      "source": [
        "# start here next time\n",
        "model = tf.keras.models.load_model('handwritten.model')"
      ]
    },
    {
      "cell_type": "code",
      "execution_count": 117,
      "metadata": {
        "colab": {
          "base_uri": "https://localhost:8080/"
        },
        "id": "Rci07oJjBbo6",
        "outputId": "85771b94-07ce-4456-f605-c3783e55c435"
      },
      "outputs": [
        {
          "name": "stdout",
          "output_type": "stream",
          "text": [
            "313/313 [==============================] - 1s 2ms/step - loss: 0.1182 - accuracy: 0.9752\n"
          ]
        }
      ],
      "source": [
        "# opt\n",
        "loss, accuracy = model.evaluate(x_test, y_test)"
      ]
    },
    {
      "cell_type": "code",
      "execution_count": 118,
      "metadata": {
        "colab": {
          "base_uri": "https://localhost:8080/"
        },
        "id": "6wQlrQmBBy0Z",
        "outputId": "e56ca051-42be-439e-abfd-d3e933c40394"
      },
      "outputs": [
        {
          "name": "stdout",
          "output_type": "stream",
          "text": [
            "0.11817886680364609\n",
            "0.9751999974250793\n"
          ]
        }
      ],
      "source": [
        "# opt\n",
        "print(loss)\n",
        "print(accuracy)"
      ]
    },
    {
      "cell_type": "code",
      "execution_count": 119,
      "metadata": {
        "colab": {
          "base_uri": "https://localhost:8080/",
          "height": 1000
        },
        "id": "tM31gDLXB8oh",
        "outputId": "08cee328-79a6-4f63-ec7c-d18c6d73c2ed"
      },
      "outputs": [
        {
          "name": "stdout",
          "output_type": "stream",
          "text": [
            "1/1 [==============================] - 0s 116ms/step\n",
            "A handwritten 0 is probably a 0\n",
            "1/1 [==============================] - 0s 31ms/step\n",
            "A handwritten 1 is probably a 1\n",
            "1/1 [==============================] - 0s 42ms/step\n",
            "A handwritten 2 is probably a 2\n",
            "1/1 [==============================] - 0s 31ms/step\n",
            "A handwritten 3 is probably a 3\n",
            "1/1 [==============================] - 0s 25ms/step\n",
            "A handwritten 4 is probably a 9\n",
            "1/1 [==============================] - 0s 30ms/step\n",
            "A handwritten 5 is probably a 5\n",
            "1/1 [==============================] - 0s 24ms/step\n",
            "A handwritten 6 is probably a 6\n",
            "1/1 [==============================] - 0s 25ms/step\n",
            "A handwritten 7 is probably a 7\n",
            "1/1 [==============================] - 0s 24ms/step\n",
            "A handwritten 8 is probably a 8\n",
            "1/1 [==============================] - 0s 23ms/step\n",
            "A handwritten 9 is probably a 9\n",
            "Manual test model accuracy: 90%\n"
          ]
        }
      ],
      "source": [
        "image_number = 0\n",
        "count = 0\n",
        "datas = [0, 1, 2, 3, 4, 5, 6, 7, 8, 9]\n",
        "files = os.listdir(f\"digits\")\n",
        "while os.path.isfile(f\"digits/{image_number}.png\"):\n",
        "  try:\n",
        "    img = cv2.imread(f\"digits/{image_number}.png\")[:,:,0]\n",
        "    img = np.invert(np.array([img]))\n",
        "    prediction = model.predict(img)\n",
        "    print(f\"A handwritten {datas[image_number]} is probably a {np.argmax(prediction)}\")\n",
        "    # plt.imshow(img[0], cmap=plt.cm.binary)\n",
        "    # plt.show()\n",
        "  except:\n",
        "    print(\"Error!\")\n",
        "  finally:\n",
        "    if np.argmax(prediction) == datas[image_number]:\n",
        "      count += 1\n",
        "    image_number += 1\n",
        "print(f\"Manual test model accuracy: {int(count/len(files)*100)}%\")"
      ]
    }
  ],
  "metadata": {
    "colab": {
      "provenance": []
    },
    "kernelspec": {
      "display_name": "Python 3",
      "name": "python3"
    },
    "language_info": {
      "name": "python",
      "version": "3.11.4"
    }
  },
  "nbformat": 4,
  "nbformat_minor": 0
}
